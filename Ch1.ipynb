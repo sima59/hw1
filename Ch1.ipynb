{
 "cells": [
  {
   "cell_type": "code",
   "execution_count": 1,
   "id": "e034a18c-9476-4836-848c-7b2fce7f2700",
   "metadata": {},
   "outputs": [
    {
     "name": "stdout",
     "output_type": "stream",
     "text": [
      "[844000.0, 758000.0, 421000.0, 259000.0, 511000.0, 405000.0, 784000.0, 303000.0, 477000.0, 583000.0, 908000.0, 505000.0, 282000.0, 756000.0, 618000.0, 251000.0, 910000.0, 983000.0, 810000.0, 902000.0, 310000.0, 730000.0, 899000.0, 684000.0, 472000.0, 101000.0, 434000.0, 611000.0, 913000.0, 967000.0, 477000.0, 865000.0, 260000.0, 805000.0, 549000.0, 14000.0, 720000.0, 399000.0, 825000.0, 668000.0, 1000.0, 494000.0, 868000.0, 244000.0, 325000.0, 870000.0, 191000.0, 568000.0, 239000.0, 968000.0, 803000.0, 448000.0, 80000.0, 320000.0, 508000.0, 933000.0, 109000.0, 551000.0, 707000.0, 547000.0, 814000.0, 540000.0, 964000.0, 603000.0, 588000.0, 445000.0, 596000.0, 385000.0, 576000.0, 290000.0, 189000.0, 187000.0, 613000.0, 657000.0, 477000.0, 90000.0, 758000.0, 877000.0, 923000.0, 842000.0, 898000.0, 923000.0, 541000.0, 391000.0, 705000.0, 276000.0, 812000.0, 849000.0, 895000.0, 590000.0, 950000.0, 580000.0, 451000.0, 660000.0, 996000.0, 917000.0, 793000.0, 82000.0, 613000.0, 486000.0]\n"
     ]
    }
   ],
   "source": [
    "import random\n",
    "import statistics\n",
    "random.seed(0)\n",
    "salaries = [round(random.random()*1000000, -3) for _ in range(100)]\n",
    "print(salaries)\n",
    "\n"
   ]
  },
  {
   "cell_type": "code",
   "execution_count": 2,
   "id": "e543193b-7f86-4678-86ab-3b375900d237",
   "metadata": {},
   "outputs": [
    {
     "name": "stdout",
     "output_type": "stream",
     "text": [
      "The Mean is: 585690.0\n"
     ]
    }
   ],
   "source": [
    "#The Mean is:\n",
    "sum = 0\n",
    "#values = [8,20,12,15,4]\n",
    "n = len(salaries)\n",
    "\n",
    "for i in salaries:\n",
    "    sum = sum + i\n",
    "\n",
    "mean = sum/n\n",
    "print ('The Mean is: ' + str(mean)) \n",
    "\n"
   ]
  },
  {
   "cell_type": "code",
   "execution_count": 3,
   "id": "8c8277cb-6a1e-4bdc-b79e-f195bffce114",
   "metadata": {},
   "outputs": [
    {
     "name": "stdout",
     "output_type": "stream",
     "text": [
      "The Median is: 589000.0\n"
     ]
    }
   ],
   "source": [
    "# The Median is:\n",
    "median=statistics.median(salaries)\n",
    "print ('The Median is: ' + str(median)) \n",
    "\n"
   ]
  },
  {
   "cell_type": "code",
   "execution_count": 4,
   "id": "7c558084-62de-48f3-acd3-0ec43cde0acc",
   "metadata": {},
   "outputs": [
    {
     "name": "stdout",
     "output_type": "stream",
     "text": [
      "The Mode is: 477000.0\n"
     ]
    }
   ],
   "source": [
    "#The Mode is:\n",
    "Mode=statistics.mode(salaries)\n",
    "print ('The Mode is: ' + str(Mode))\n"
   ]
  },
  {
   "cell_type": "code",
   "execution_count": 5,
   "id": "5afd56b2-7cba-42f5-9437-86a207851151",
   "metadata": {},
   "outputs": [
    {
     "name": "stdout",
     "output_type": "stream",
     "text": [
      "The Variance is: 70664054444.44444\n"
     ]
    }
   ],
   "source": [
    "### sample variance.Remember to use Bessel's correction.\n",
    "Variance=statistics.variance(salaries)\n",
    "print ('The Variance is: ' + str(Variance))\n"
   ]
  },
  {
   "cell_type": "code",
   "execution_count": 6,
   "id": "5c7368ff-d915-4560-98b9-f7f95c54237c",
   "metadata": {},
   "outputs": [
    {
     "name": "stdout",
     "output_type": "stream",
     "text": [
      "The standard deviation is: 265827.11382484\n"
     ]
    }
   ],
   "source": [
    "# sample standard deviation.Remember to use Bessel's correction.\n",
    "SDeviation=statistics.stdev(salaries)\n",
    "print ('The standard deviation is: ' + str(SDeviation))"
   ]
  },
  {
   "cell_type": "code",
   "execution_count": 7,
   "id": "f20d0220-7876-4396-959a-de4f1b76d1e7",
   "metadata": {},
   "outputs": [
    {
     "name": "stdout",
     "output_type": "stream",
     "text": [
      "995000.0\n"
     ]
    }
   ],
   "source": [
    "##range\n",
    "max=max(salaries)\n",
    "min=min(salaries)\n",
    "our_range=max-min\n",
    "print(our_range) "
   ]
  },
  {
   "cell_type": "code",
   "execution_count": 8,
   "id": "b5f9fc8f-8788-4b8e-a242-1e9ced17e503",
   "metadata": {},
   "outputs": [
    {
     "ename": "ModuleNotFoundError",
     "evalue": "No module named 'pandas'",
     "output_type": "error",
     "traceback": [
      "\u001b[1;31m---------------------------------------------------------------------------\u001b[0m",
      "\u001b[1;31mModuleNotFoundError\u001b[0m                       Traceback (most recent call last)",
      "\u001b[1;32m<ipython-input-8-4cd898542772>\u001b[0m in \u001b[0;36m<module>\u001b[1;34m\u001b[0m\n\u001b[0;32m      1\u001b[0m \u001b[1;32mimport\u001b[0m \u001b[0mnumpy\u001b[0m \u001b[1;32mas\u001b[0m \u001b[0mnp\u001b[0m\u001b[1;33m\u001b[0m\u001b[1;33m\u001b[0m\u001b[0m\n\u001b[1;32m----> 2\u001b[1;33m \u001b[1;32mimport\u001b[0m \u001b[0mpandas\u001b[0m \u001b[1;32mas\u001b[0m \u001b[0mpd\u001b[0m\u001b[1;33m\u001b[0m\u001b[1;33m\u001b[0m\u001b[0m\n\u001b[0m\u001b[0;32m      3\u001b[0m \u001b[0mcv\u001b[0m \u001b[1;33m=\u001b[0m \u001b[1;32mlambda\u001b[0m \u001b[0mx\u001b[0m\u001b[1;33m:\u001b[0m \u001b[0mnp\u001b[0m\u001b[1;33m.\u001b[0m\u001b[0mstd\u001b[0m\u001b[1;33m(\u001b[0m\u001b[0mx\u001b[0m\u001b[1;33m,\u001b[0m \u001b[0mddof\u001b[0m\u001b[1;33m=\u001b[0m\u001b[1;36m1\u001b[0m\u001b[1;33m)\u001b[0m \u001b[1;33m/\u001b[0m \u001b[0mnp\u001b[0m\u001b[1;33m.\u001b[0m\u001b[0mmean\u001b[0m\u001b[1;33m(\u001b[0m\u001b[0mx\u001b[0m\u001b[1;33m)\u001b[0m \u001b[1;33m*\u001b[0m \u001b[1;36m100\u001b[0m\u001b[1;33m\u001b[0m\u001b[1;33m\u001b[0m\u001b[0m\n\u001b[0;32m      4\u001b[0m \u001b[0mdf\u001b[0m \u001b[1;33m=\u001b[0m \u001b[0mpd\u001b[0m\u001b[1;33m.\u001b[0m\u001b[0marray\u001b[0m\u001b[1;33m(\u001b[0m\u001b[0msalaries\u001b[0m\u001b[1;33m)\u001b[0m\u001b[1;33m\u001b[0m\u001b[1;33m\u001b[0m\u001b[0m\n",
      "\u001b[1;31mModuleNotFoundError\u001b[0m: No module named 'pandas'"
     ]
    }
   ],
   "source": [
    "import numpy as np\n",
    "import pandas as pd\n",
    "cv = lambda x: np.std(x, ddof=1) / np.mean(x) * 100 \n",
    "df = pd.array(salaries)"
   ]
  },
  {
   "cell_type": "code",
   "execution_count": 9,
   "id": "e395e637-a0b5-48d2-bb5c-5d9995ddbaa6",
   "metadata": {},
   "outputs": [
    {
     "name": "stdout",
     "output_type": "stream",
     "text": [
      "413250.0\n"
     ]
    }
   ],
   "source": [
    "from scipy import stats\n",
    "\n",
    "x = stats.iqr(salaries)\n",
    "\n",
    "print(x)"
   ]
  },
  {
   "cell_type": "code",
   "execution_count": 10,
   "id": "63fbd5db-a17d-499f-87db-5ff0d639b949",
   "metadata": {},
   "outputs": [
    {
     "name": "stdout",
     "output_type": "stream",
     "text": [
      "264494.6386980273\n"
     ]
    }
   ],
   "source": [
    "import numpy\n",
    "\n",
    "x = numpy.std(salaries)\n",
    "\n",
    "print(x)\n"
   ]
  },
  {
   "cell_type": "code",
   "execution_count": 11,
   "id": "280f0d97-5f82-48b1-838a-3e3410fbbd1e",
   "metadata": {},
   "outputs": [
    {
     "data": {
      "text/plain": [
       "array([0.84723618, 0.76080402, 0.42211055, 0.25929648, 0.51256281,\n",
       "       0.40603015, 0.78693467, 0.30351759, 0.47839196, 0.58492462,\n",
       "       0.91155779, 0.50653266, 0.28241206, 0.75879397, 0.6201005 ,\n",
       "       0.25125628, 0.91356784, 0.98693467, 0.81306533, 0.90552764,\n",
       "       0.31055276, 0.73266332, 0.90251256, 0.68643216, 0.47336683,\n",
       "       0.10050251, 0.43517588, 0.61306533, 0.91658291, 0.97085427,\n",
       "       0.47839196, 0.86834171, 0.26030151, 0.8080402 , 0.55075377,\n",
       "       0.01306533, 0.72261307, 0.4       , 0.8281407 , 0.67035176,\n",
       "       0.        , 0.49547739, 0.87135678, 0.24422111, 0.32562814,\n",
       "       0.87336683, 0.19095477, 0.56984925, 0.23919598, 0.9718593 ,\n",
       "       0.80603015, 0.44924623, 0.07939698, 0.32060302, 0.50954774,\n",
       "       0.93668342, 0.10854271, 0.55276382, 0.70954774, 0.54874372,\n",
       "       0.81708543, 0.54170854, 0.9678392 , 0.60502513, 0.58994975,\n",
       "       0.44623116, 0.59798995, 0.38592965, 0.57788945, 0.29045226,\n",
       "       0.18894472, 0.18693467, 0.61507538, 0.65929648, 0.47839196,\n",
       "       0.08944724, 0.76080402, 0.88040201, 0.92663317, 0.84522613,\n",
       "       0.90150754, 0.92663317, 0.54271357, 0.3919598 , 0.70753769,\n",
       "       0.27638191, 0.81507538, 0.85226131, 0.89849246, 0.5919598 ,\n",
       "       0.95376884, 0.58190955, 0.45226131, 0.66231156, 1.        ,\n",
       "       0.92060302, 0.7959799 , 0.08140704, 0.61507538, 0.48743719])"
      ]
     },
     "execution_count": 11,
     "metadata": {},
     "output_type": "execute_result"
    }
   ],
   "source": [
    "from sklearn.preprocessing import minmax_scale\n",
    "\n",
    "minmax_scale(salaries)"
   ]
  },
  {
   "cell_type": "code",
   "execution_count": 12,
   "id": "ef34c604-8bcb-4fe0-8a68-e5d9b9e10341",
   "metadata": {},
   "outputs": [
    {
     "ename": "NameError",
     "evalue": "name 'preprocessing' is not defined",
     "output_type": "error",
     "traceback": [
      "\u001b[1;31m---------------------------------------------------------------------------\u001b[0m",
      "\u001b[1;31mNameError\u001b[0m                                 Traceback (most recent call last)",
      "\u001b[1;32m<ipython-input-12-6c283fac46d9>\u001b[0m in \u001b[0;36m<module>\u001b[1;34m\u001b[0m\n\u001b[1;32m----> 1\u001b[1;33m \u001b[0mstandard\u001b[0m \u001b[1;33m=\u001b[0m \u001b[0mpreprocessing\u001b[0m\u001b[1;33m.\u001b[0m\u001b[0mscale\u001b[0m\u001b[1;33m(\u001b[0m\u001b[0msalaries\u001b[0m\u001b[1;33m)\u001b[0m\u001b[1;33m\u001b[0m\u001b[1;33m\u001b[0m\u001b[0m\n\u001b[0m\u001b[0;32m      2\u001b[0m \u001b[0mprint\u001b[0m\u001b[1;33m(\u001b[0m\u001b[0mstandard\u001b[0m\u001b[1;33m)\u001b[0m\u001b[1;33m\u001b[0m\u001b[1;33m\u001b[0m\u001b[0m\n",
      "\u001b[1;31mNameError\u001b[0m: name 'preprocessing' is not defined"
     ]
    }
   ],
   "source": [
    "standard = preprocessing.scale(salaries)\n",
    "print(standard)"
   ]
  },
  {
   "cell_type": "code",
   "execution_count": null,
   "id": "7b8b490b-5de2-4f96-a32d-f42235834d42",
   "metadata": {},
   "outputs": [],
   "source": []
  }
 ],
 "metadata": {
  "kernelspec": {
   "display_name": "Python 3",
   "language": "python",
   "name": "python3"
  },
  "language_info": {
   "codemirror_mode": {
    "name": "ipython",
    "version": 3
   },
   "file_extension": ".py",
   "mimetype": "text/x-python",
   "name": "python",
   "nbconvert_exporter": "python",
   "pygments_lexer": "ipython3",
   "version": "3.8.5"
  }
 },
 "nbformat": 4,
 "nbformat_minor": 5
}
